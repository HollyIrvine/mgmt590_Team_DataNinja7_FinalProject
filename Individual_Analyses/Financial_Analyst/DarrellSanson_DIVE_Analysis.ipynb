{
  "nbformat": 4,
  "nbformat_minor": 0,
  "metadata": {
    "colab": {
      "provenance": [],
      "include_colab_link": true
    },
    "kernelspec": {
      "name": "python3",
      "display_name": "Python 3"
    },
    "language_info": {
      "name": "python"
    }
  },
  "cells": [
    {
      "cell_type": "markdown",
      "metadata": {
        "id": "view-in-github",
        "colab_type": "text"
      },
      "source": [
        "<a href=\"https://colab.research.google.com/github/HollyIrvine/mgmt590_Team_DataNinja7_FinalProject/blob/main/Individual_Analyses/Financial_Analyst/DarrellSanson_DIVE_Analysis.ipynb\" target=\"_parent\"><img src=\"https://colab.research.google.com/assets/colab-badge.svg\" alt=\"Open In Colab\"/></a>"
      ]
    },
    {
      "cell_type": "markdown",
      "source": [
        "**Dive Analysis**"
      ],
      "metadata": {
        "id": "qtXiHwgrfw3o"
      }
    },
    {
      "cell_type": "markdown",
      "source": [
        "D - Discover"
      ],
      "metadata": {
        "id": "BC6wapL-gCLZ"
      }
    },
    {
      "cell_type": "markdown",
      "source": [
        "What is the impact of discounts on profitability?"
      ],
      "metadata": {
        "id": "QRyj4zotgKlL"
      }
    },
    {
      "cell_type": "code",
      "source": [
        "#FA_Discover_cost_patterns_based_on_discounts\n",
        "%%bigquery --project mgmt599-final-project\n",
        "SELECT\n",
        "    Discount,\n",
        "    COUNT(OrderID) AS TotalOrders,\n",
        "    SUM(Sales) AS TotalRevenue,\n",
        "    SUM(Profit) AS TotalProfit\n",
        "FROM\n",
        "    mgmt599-final-project.EcomStoreSalesPipeline.EcomStoreDataTable\n",
        "GROUP BY\n",
        "    Discount\n",
        "ORDER BY\n",
        "    Discount ASC;"
      ],
      "metadata": {
        "id": "sGG-bLDEXNjU"
      },
      "execution_count": null,
      "outputs": []
    },
    {
      "cell_type": "code",
      "source": [
        "#FA_Discover_profitability_by_category\n",
        "%%bigquery --project mgmt599-final-project\n",
        "\n",
        "SELECT\n",
        "    Category,\n",
        "    SUM(Profit) AS TotalProfit,\n",
        "    SUM(Sales) AS TotalSales,\n",
        "    AVG(Profit) AS AvgProfitPerSale\n",
        "FROM\n",
        "    mgmt599-final-project.EcomStoreSalesPipeline.EcomStoreDataTable\n",
        "GROUP BY\n",
        "    Category\n",
        "ORDER BY\n",
        "    TotalProfit DESC;"
      ],
      "metadata": {
        "id": "AguFMSXZZzD_"
      },
      "execution_count": null,
      "outputs": []
    },
    {
      "cell_type": "code",
      "source": [
        "# FA_Discover_revenue_trends_over_time\n",
        "\n",
        "%%bigquery --project mgmt599-final-project\n",
        "\n",
        "SELECT\n",
        "    DATE_TRUNC(DATE(OrderDate), MONTH) AS OrderMonth,\n",
        "    SUM(Sales) AS TotalRevenue\n",
        "FROM\n",
        "    `mgmt599-final-project.EcomStoreSalesPipeline.EcomStoreDataTable`\n",
        "GROUP BY\n",
        "    OrderMonth\n",
        "ORDER BY\n",
        "    OrderMonth ASC;"
      ],
      "metadata": {
        "id": "GJVVfSsvZ_xE"
      },
      "execution_count": null,
      "outputs": []
    },
    {
      "cell_type": "markdown",
      "source": [
        "Discover Summary\n",
        "\n",
        "Discounts over 20% lead to negative average profitability, with deeper discounts (e.g., 30%-80%) yielding increasingly severe losses.\n",
        "Discounting erodes profitability at high levels, suggesting a need for strategic adjustments to discount policies to avoid losses.\n",
        "Discounts greater than 20% lead to negative profitability across various categories, totaling a loss of 135,369. Discounts over 20% represent 15.79% of the total sales but consistently result in negative profits. Conversely, discounts less than 20% contribute to 84.21% of total sales, yielding positive profitability with a total profit of 422,306. This highlights a correlation between higher discounts and financial losses, suggesting that high discounting adversely impacts overall profitability.\n",
        "\n",
        "Suggestions for Elimination or Adjustment:\n",
        "Revisit the >20% Discount Policy:\n",
        "Identify products where discounts significantly surpass profit margins. Consider reducing discounts on Furniture (Tables, Chairs, Bookcases, Furnishings), technology products (Machines, Phones), and office supplies (Binders, Appliances).\n",
        "Stop selling items with persistent losses:\n",
        "Evaluate whether to discontinue categories that consistently result in losses, such as Office Supplies - Appliances and Furniture - Furnishings.\n",
        "Optimize Pricing Strategy:\n",
        "Reassess price points and market competitiveness for items underperforming with high discount levels.\n",
        "Focus on Products with Positive Profitability:\n",
        "Categories under <20% Discounts (e.g., Copiers, Phones, Accessories, Paper, Storage, Binders) show strong profitability; prioritize sales and marketing efforts towards these products.\n",
        "\n"
      ],
      "metadata": {
        "id": "Fzc9ovdphaB0"
      }
    },
    {
      "cell_type": "code",
      "source": [
        "#FA_Extend_future_profitability_projection_by_category\n",
        "%%bigquery --project mgmt599-final-project\n",
        "\n",
        "SELECT\n",
        "    Category,\n",
        "    SUM(Sales) AS HistoricalSales,\n",
        "    SUM(Profit) AS HistoricalProfit,\n",
        "    AVG(Profit) * 1.10 AS ProjectedProfit\n",
        "FROM\n",
        "    mgmt599-final-project.EcomStoreSalesPipeline.EcomStoreDataTable\n",
        "GROUP BY\n",
        "    Category\n",
        "ORDER BY\n",
        "    HistoricalProfit DESC;\n",
        "\n"
      ],
      "metadata": {
        "id": "M3FG3pgqawGC"
      },
      "execution_count": null,
      "outputs": []
    },
    {
      "cell_type": "markdown",
      "source": [
        "### I - Investigate"
      ],
      "metadata": {
        "id": "MxGp1Deni1PL"
      }
    },
    {
      "cell_type": "markdown",
      "source": [
        "How does profitability vary across customer segments for discounts above 20%"
      ],
      "metadata": {
        "id": "aU5TUMX4i9Ei"
      }
    },
    {
      "cell_type": "code",
      "source": [
        "# FA_Investigate_Impact_of_customer_segments_on_sales_and_profit\n",
        "\n",
        "%%bigquery --project mgmt599-final-project\n",
        "SELECT\n",
        "    Segment,\n",
        "    SUM(Sales) AS TotalSales,\n",
        "    SUM(Profit) AS TotalProfit,\n",
        "    COUNT(OrderID) AS TotalOrders\n",
        "FROM\n",
        "    mgmt599-final-project.EcomStoreSalesPipeline.EcomStoreDataTable\n",
        "GROUP BY\n",
        "    Segment\n",
        "ORDER BY\n",
        "    TotalProfit DESC;"
      ],
      "metadata": {
        "id": "1eAdUt2xbP3_"
      },
      "execution_count": null,
      "outputs": []
    },
    {
      "cell_type": "code",
      "source": [
        "#FA_Investigate_Impact_of_discounts_on_profitability\n",
        "%%bigquery --project mgmt599-final-project\n",
        "SELECT\n",
        "    Discount,\n",
        "    SUM(Sales) AS TotalSales,\n",
        "    SUM(Profit) AS TotalProfit,\n",
        "    AVG(Profit) AS AvgProfit\n",
        "FROM\n",
        "    mgmt599-final-project.EcomStoreSalesPipeline.EcomStoreDataTable\n",
        "GROUP BY\n",
        "    Discount\n",
        "ORDER BY\n",
        "    Discount ASC;"
      ],
      "metadata": {
        "id": "ygKI1TpabwGh"
      },
      "execution_count": null,
      "outputs": []
    },
    {
      "cell_type": "code",
      "source": [
        "#FA_Investigate_regional_performance_insights\n",
        "%%bigquery --project mgmt599-final-project\n",
        "\n",
        "SELECT\n",
        "    Region,\n",
        "    SUM(Sales) AS TotalSales,\n",
        "    SUM(Profit) AS TotalProfit,\n",
        "    COUNT(OrderID) AS TotalOrders\n",
        "FROM\n",
        "    mgmt599-final-project.EcomStoreSalesPipeline.EcomStoreDataTable\n",
        "GROUP BY\n",
        "    Region\n",
        "ORDER BY\n",
        "    TotalProfit DESC;"
      ],
      "metadata": {
        "id": "ek2t7e5NdhL0"
      },
      "execution_count": null,
      "outputs": []
    },
    {
      "cell_type": "markdown",
      "source": [
        "I - Investigate Summary\n",
        "\n",
        "Patterns reveal that:\n",
        "Discounts across segments and categories hit profitability universally, but Furniture and Consumers seem most affected.\n",
        "Fixed costs seem unmanageable at higher discount levels, implying inefficiencies in cost structure for discounted sales.\n"
      ],
      "metadata": {
        "id": "ZorJQ--wjFPh"
      }
    },
    {
      "cell_type": "markdown",
      "source": [
        "### V - Validate"
      ],
      "metadata": {
        "id": "KTNwaSWkj44f"
      }
    },
    {
      "cell_type": "markdown",
      "source": [
        "What could make this conclusion wrong?\n",
        "If customers incentivized by high discounts purchase more in the long term, the negative profitability on current transactions could eventually balance out.\n",
        "What data limitations exist?\n",
        "Lack of data on customer lifetime value (CLV) post-discount prevents understanding of long-term outcomes.\n",
        "Limited visibility into variable costs for different categories could mean cost structures are uneven.\n"
      ],
      "metadata": {
        "id": "zytM8itij7Ni"
      }
    },
    {
      "cell_type": "code",
      "source": [
        "#FA_Validate_testing_correlation_between_sales_and_profit\n",
        "%%bigquery --project mgmt599-final-project\n",
        "SELECT\n",
        "    Sales,\n",
        "    Profit\n",
        "FROM\n",
        "    mgmt599-final-project.EcomStoreSalesPipeline.EcomStoreDataTable\n",
        "WHERE\n",
        "    Sales > 0 AND Profit > 0\n",
        "ORDER BY\n",
        "    Sales DESC;"
      ],
      "metadata": {
        "id": "VUxJe2bpeBAN"
      },
      "execution_count": null,
      "outputs": []
    },
    {
      "cell_type": "code",
      "source": [
        "\n",
        "#FA_Validate_Segment_and_discount_correlation_with_profitability\n",
        "%%bigquery --project mgmt599-final-project\n",
        "\n",
        "SELECT\n",
        "    Segment,\n",
        "    Discount,\n",
        "    AVG(Profit) AS AvgProfitPerOrder,\n",
        "    SUM(Profit) AS TotalProfit,\n",
        "    COUNT(OrderID) AS TotalOrders\n",
        "FROM\n",
        "    mgmt599-final-project.EcomStoreSalesPipeline.EcomStoreDataTable\n",
        "GROUP BY\n",
        "    Segment, Discount\n",
        "ORDER BY\n",
        "    AvgProfitPerOrder DESC;"
      ],
      "metadata": {
        "id": "fZEtppA9dvfG"
      },
      "execution_count": null,
      "outputs": []
    },
    {
      "cell_type": "markdown",
      "source": [
        "# E - Extend"
      ],
      "metadata": {
        "id": "YXcajJIckQwn"
      }
    },
    {
      "cell_type": "markdown",
      "source": [
        "Recommendations:\n",
        "Adjust Discount Policy:\n",
        "Cap discounts at 20%: Avoid deeper discounts that consistently result in unprofitable transactions. Maintain profitability margins.\n",
        "Category-Specific Adjustments:\n",
        "Technology: Continue targeted discounts for high-margin products with measured increases in discount levels.\n",
        "Furniture: Reduce reliance on discounts as marketing drivers; focus on retention strategies based on customer loyalty.\n",
        "Foster Customer Loyalty Without Deep Discounts:\n",
        "Implement loyalty programs to encourage repeat purchases with smaller incentives.\n",
        "Offer personalized discounts to Corporate customers, leveraging higher average profit per customer.\n"
      ],
      "metadata": {
        "id": "rTDLfH3fkXsR"
      }
    },
    {
      "cell_type": "code",
      "source": [
        "# FA_Extend_Projected_sales_based_on_historical_growth\n",
        "\n",
        "%%bigquery --project mgmt599-final-project\n",
        "\n",
        "WITH MonthlyRevenue AS (\n",
        "    SELECT\n",
        "        DATE_TRUNC(OrderDate, MONTH) AS OrderMonth,  -- Ensure \"OrderDate\" is of type DATE/TIMESTAMP\n",
        "        SUM(Sales) AS TotalRevenue\n",
        "    FROM\n",
        "        mgmt599-final-project.EcomStoreSalesPipeline.EcomStoreDataTable\n",
        "    GROUP BY\n",
        "        DATE_TRUNC(OrderDate, MONTH)  -- Correct DATE_TRUNC syntax for BigQuery\n",
        ")\n",
        "SELECT\n",
        "    OrderMonth,\n",
        "    TotalRevenue,\n",
        "    LAG(TotalRevenue) OVER (ORDER BY OrderMonth) AS PreviousMonthRevenue,\n",
        "    (TotalRevenue - LAG(TotalRevenue) OVER (ORDER BY OrderMonth)) AS RevenueChange,\n",
        "    ROUND(((TotalRevenue - LAG(TotalRevenue) OVER (ORDER BY OrderMonth)) / LAG(TotalRevenue) OVER (ORDER BY OrderMonth)) * 100, 2) AS RevenueGrowthPercent\n",
        "FROM\n",
        "    MonthlyRevenue;"
      ],
      "metadata": {
        "id": "N3tv55X6aFHG"
      },
      "execution_count": null,
      "outputs": []
    }
  ]
}